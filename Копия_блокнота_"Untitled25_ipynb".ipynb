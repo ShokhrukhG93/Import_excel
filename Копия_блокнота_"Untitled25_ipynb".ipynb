{
  "nbformat": 4,
  "nbformat_minor": 0,
  "metadata": {
    "colab": {
      "provenance": [],
      "authorship_tag": "ABX9TyNKf+pxcHh6UHVAY0u5N9Nu",
      "include_colab_link": true
    },
    "kernelspec": {
      "name": "python3",
      "display_name": "Python 3"
    },
    "language_info": {
      "name": "python"
    }
  },
  "cells": [
    {
      "cell_type": "markdown",
      "metadata": {
        "id": "view-in-github",
        "colab_type": "text"
      },
      "source": [
        "<a href=\"https://colab.research.google.com/github/ShokhrukhG93/Import_excel/blob/main/%D0%9A%D0%BE%D0%BF%D0%B8%D1%8F_%D0%B1%D0%BB%D0%BE%D0%BA%D0%BD%D0%BE%D1%82%D0%B0_%22Untitled25_ipynb%22.ipynb\" target=\"_parent\"><img src=\"https://colab.research.google.com/assets/colab-badge.svg\" alt=\"Open In Colab\"/></a>"
      ]
    },
    {
      "cell_type": "code",
      "execution_count": null,
      "metadata": {
        "colab": {
          "base_uri": "https://localhost:8080/"
        },
        "id": "ZOOUxh5DJUXN",
        "outputId": "cecfd622-03d6-4622-ebd6-803222afc110"
      },
      "outputs": [
        {
          "output_type": "stream",
          "name": "stdout",
          "text": [
            "Mounted at /content/drive\n"
          ]
        }
      ],
      "source": [
        "from google.colab import drive\n",
        "drive.mount('/content/drive')"
      ]
    },
    {
      "cell_type": "code",
      "source": [
        "import os\n",
        "\n",
        "# /content/drive/My Drive/Kaggle - путь к файлу kaggle.json на Google Drive\n",
        "os.environ['KAGGLE_CONFIG_DIR'] = \"/content/drive/My Drive/Kaggle\"\n",
        "\n",
        "# смена рабочего католога\n",
        "%cd /content/drive/My Drive/Kaggle\n",
        "\n",
        "# проверяем текуўий рабочий каталог с помощью команды pwd"
      ],
      "metadata": {
        "colab": {
          "base_uri": "https://localhost:8080/"
        },
        "id": "zCocWsXEJjcY",
        "outputId": "d9520d45-c317-4f04-f896-629f65ce4948"
      },
      "execution_count": null,
      "outputs": [
        {
          "output_type": "stream",
          "name": "stdout",
          "text": [
            "/content/drive/My Drive/Kaggle\n"
          ]
        }
      ]
    },
    {
      "cell_type": "code",
      "source": [
        "!ls -la kaggle.json"
      ],
      "metadata": {
        "colab": {
          "base_uri": "https://localhost:8080/"
        },
        "id": "bdnfht5FLJfR",
        "outputId": "c56c82bf-97ac-4ba8-e2ad-08bea28e5daa"
      },
      "execution_count": null,
      "outputs": [
        {
          "output_type": "stream",
          "name": "stdout",
          "text": [
            "-rw------- 1 root root 75 May 17 07:26 kaggle.json\n"
          ]
        }
      ]
    },
    {
      "cell_type": "code",
      "source": [
        "!kaggle competitions list"
      ],
      "metadata": {
        "colab": {
          "base_uri": "https://localhost:8080/"
        },
        "id": "wi4qQ9trLMgl",
        "outputId": "ae6b647e-164a-4f0e-f6d4-87c8d4cd6b44"
      },
      "execution_count": null,
      "outputs": [
        {
          "output_type": "stream",
          "name": "stdout",
          "text": [
            "ref                                                                               deadline             category                reward  teamCount  userHasEntered  \n",
            "--------------------------------------------------------------------------------  -------------------  ---------------  -------------  ---------  --------------  \n",
            "https://www.kaggle.com/competitions/arc-prize-2025                                2025-11-03 23:59:00  Featured         1,000,000 Usd        383           False  \n",
            "https://www.kaggle.com/competitions/openai-to-z-challenge                         2025-06-29 23:59:00  Featured           400,000 Usd          0           False  \n",
            "https://www.kaggle.com/competitions/stanford-rna-3d-folding                       2025-05-29 23:59:00  Featured            75,000 Usd       1368           False  \n",
            "https://www.kaggle.com/competitions/byu-locating-bacterial-flagellar-motors-2025  2025-06-04 23:59:00  Research            65,000 Usd        987           False  \n",
            "https://www.kaggle.com/competitions/birdclef-2025                                 2025-06-05 23:59:00  Research            50,000 Usd       1765           False  \n",
            "https://www.kaggle.com/competitions/drawing-with-llms                             2025-05-27 23:59:00  Featured            50,000 Usd       1296           False  \n",
            "https://www.kaggle.com/competitions/image-matching-challenge-2025                 2025-06-02 23:59:00  Research            50,000 Usd        758           False  \n",
            "https://www.kaggle.com/competitions/waveform-inversion                            2025-06-30 23:59:00  Research            50,000 Usd        581           False  \n",
            "https://www.kaggle.com/competitions/playground-series-s5e5                        2025-05-31 23:59:00  Playground                Swag       2563           False  \n",
            "https://www.kaggle.com/competitions/titanic                                       2030-01-01 00:00:00  Getting Started      Knowledge      15958            True  \n",
            "https://www.kaggle.com/competitions/home-data-for-ml-course                       2030-01-01 23:59:00  Getting Started      Knowledge       6016            True  \n",
            "https://www.kaggle.com/competitions/house-prices-advanced-regression-techniques   2030-01-01 00:00:00  Getting Started      Knowledge       4677            True  \n",
            "https://www.kaggle.com/competitions/spaceship-titanic                             2030-01-01 00:00:00  Getting Started      Knowledge       2130            True  \n",
            "https://www.kaggle.com/competitions/digit-recognizer                              2030-01-01 00:00:00  Getting Started      Knowledge       1637           False  \n",
            "https://www.kaggle.com/competitions/nlp-getting-started                           2030-01-01 00:00:00  Getting Started      Knowledge        909           False  \n",
            "https://www.kaggle.com/competitions/store-sales-time-series-forecasting           2030-06-30 23:59:00  Getting Started      Knowledge        765            True  \n",
            "https://www.kaggle.com/competitions/llm-classification-finetuning                 2030-07-01 23:59:00  Getting Started      Knowledge        252           False  \n",
            "https://www.kaggle.com/competitions/connectx                                      2030-01-01 00:00:00  Getting Started      Knowledge        194           False  \n",
            "https://www.kaggle.com/competitions/gan-getting-started                           2030-07-01 23:59:00  Getting Started      Knowledge        127           False  \n",
            "https://www.kaggle.com/competitions/contradictory-my-dear-watson                  2030-07-01 23:59:00  Getting Started      Knowledge         64           False  \n"
          ]
        }
      ]
    },
    {
      "cell_type": "code",
      "source": [
        "!kaggle datasets download -d ivankmk/thousand-ml-jobs-in-usa"
      ],
      "metadata": {
        "colab": {
          "base_uri": "https://localhost:8080/"
        },
        "id": "KvtuqUiJLPym",
        "outputId": "afc46cc3-9be2-463e-87d0-3ecf2d1f9759"
      },
      "execution_count": null,
      "outputs": [
        {
          "output_type": "stream",
          "name": "stdout",
          "text": [
            "Dataset URL: https://www.kaggle.com/datasets/ivankmk/thousand-ml-jobs-in-usa\n",
            "License(s): Attribution 4.0 International (CC BY 4.0)\n",
            "Downloading thousand-ml-jobs-in-usa.zip to /content/drive/My Drive/Kaggle\n",
            "  0% 0.00/1.60M [00:00<?, ?B/s]\n",
            "100% 1.60M/1.60M [00:00<00:00, 109MB/s]\n"
          ]
        }
      ]
    },
    {
      "cell_type": "code",
      "source": [
        "!unzip \"/content/drive/My Drive/Kaggle/thousand-ml-jobs-in-usa.zip\" -d \"/content/drive/My Drive/Kaggle/\""
      ],
      "metadata": {
        "colab": {
          "base_uri": "https://localhost:8080/"
        },
        "id": "zLTFq2iOMVYg",
        "outputId": "35b40038-c5a2-4210-9fa6-ab6b9c718094"
      },
      "execution_count": null,
      "outputs": [
        {
          "output_type": "stream",
          "name": "stdout",
          "text": [
            "Archive:  /content/drive/My Drive/Kaggle/thousand-ml-jobs-in-usa.zip\n",
            "  inflating: /content/drive/My Drive/Kaggle/1000_ml_jobs_us.csv  \n"
          ]
        }
      ]
    },
    {
      "cell_type": "code",
      "source": [
        "import pandas as pd\n",
        "\n",
        "df = pd.read_csv(\"/content/drive/My Drive/Kaggle/1000_ml_jobs_us.csv\", index_col=0)\n",
        "df.head()"
      ],
      "metadata": {
        "colab": {
          "base_uri": "https://localhost:8080/",
          "height": 293
        },
        "id": "0fi-oO1DPO5-",
        "outputId": "419a7b2a-7cc3-42b3-ae0a-b43d0c8e900d"
      },
      "execution_count": null,
      "outputs": [
        {
          "output_type": "execute_result",
          "data": {
            "text/plain": [
              "  job_posted_date company_address_locality company_address_region  \\\n",
              "0      2024-10-31             Indianapolis                Indiana   \n",
              "1      2025-03-14            San Francisco             California   \n",
              "2      2025-04-09                 San Jose                     CA   \n",
              "3      2025-03-22            Mountain View             California   \n",
              "4      2025-03-28                   Boston          Massachusetts   \n",
              "\n",
              "  company_name             company_website  \\\n",
              "0   Upper Hand       https://upperhand.com   \n",
              "1       Ikigai   https://www.ikigailabs.io   \n",
              "2        Adobe        http://www.adobe.com   \n",
              "3        Waymo  https://waymo.com/careers/   \n",
              "4          HMH        http://www.hmhco.com   \n",
              "\n",
              "                                 company_description  \\\n",
              "0  Upper Hand is the leading provider of full-sui...   \n",
              "1  Built upon years of MIT research, Ikigai is a ...   \n",
              "2  Adobe is the global leader in digital media an...   \n",
              "3  On the journey to be the world's most trusted ...   \n",
              "4  We are an adaptive learning company that empow...   \n",
              "\n",
              "                                job_description_text   seniority_level  \\\n",
              "0  OverviewUpper Hand is embarking on an exciting...        Internship   \n",
              "1  Company DescriptionThe Ikigai platform unlocks...  Mid-Senior level   \n",
              "2  Our CompanyChanging the world through digital ...       Entry level   \n",
              "3  Waymo is an autonomous driving technology comp...       Entry level   \n",
              "4  Job Title: Machine Learning EngineerLocation: ...  Mid-Senior level   \n",
              "\n",
              "                                           job_title  \n",
              "0  Internship - Machine Learning Engineer & Data ...  \n",
              "1                          Machine Learning Engineer  \n",
              "2                          Machine Learning Engineer  \n",
              "3                Machine Learning Engineer, Training  \n",
              "4                          Machine Learning Engineer  "
            ],
            "text/html": [
              "\n",
              "  <div id=\"df-72f024a2-2167-49da-bde3-4a9055b27e50\" class=\"colab-df-container\">\n",
              "    <div>\n",
              "<style scoped>\n",
              "    .dataframe tbody tr th:only-of-type {\n",
              "        vertical-align: middle;\n",
              "    }\n",
              "\n",
              "    .dataframe tbody tr th {\n",
              "        vertical-align: top;\n",
              "    }\n",
              "\n",
              "    .dataframe thead th {\n",
              "        text-align: right;\n",
              "    }\n",
              "</style>\n",
              "<table border=\"1\" class=\"dataframe\">\n",
              "  <thead>\n",
              "    <tr style=\"text-align: right;\">\n",
              "      <th></th>\n",
              "      <th>job_posted_date</th>\n",
              "      <th>company_address_locality</th>\n",
              "      <th>company_address_region</th>\n",
              "      <th>company_name</th>\n",
              "      <th>company_website</th>\n",
              "      <th>company_description</th>\n",
              "      <th>job_description_text</th>\n",
              "      <th>seniority_level</th>\n",
              "      <th>job_title</th>\n",
              "    </tr>\n",
              "  </thead>\n",
              "  <tbody>\n",
              "    <tr>\n",
              "      <th>0</th>\n",
              "      <td>2024-10-31</td>\n",
              "      <td>Indianapolis</td>\n",
              "      <td>Indiana</td>\n",
              "      <td>Upper Hand</td>\n",
              "      <td>https://upperhand.com</td>\n",
              "      <td>Upper Hand is the leading provider of full-sui...</td>\n",
              "      <td>OverviewUpper Hand is embarking on an exciting...</td>\n",
              "      <td>Internship</td>\n",
              "      <td>Internship - Machine Learning Engineer &amp; Data ...</td>\n",
              "    </tr>\n",
              "    <tr>\n",
              "      <th>1</th>\n",
              "      <td>2025-03-14</td>\n",
              "      <td>San Francisco</td>\n",
              "      <td>California</td>\n",
              "      <td>Ikigai</td>\n",
              "      <td>https://www.ikigailabs.io</td>\n",
              "      <td>Built upon years of MIT research, Ikigai is a ...</td>\n",
              "      <td>Company DescriptionThe Ikigai platform unlocks...</td>\n",
              "      <td>Mid-Senior level</td>\n",
              "      <td>Machine Learning Engineer</td>\n",
              "    </tr>\n",
              "    <tr>\n",
              "      <th>2</th>\n",
              "      <td>2025-04-09</td>\n",
              "      <td>San Jose</td>\n",
              "      <td>CA</td>\n",
              "      <td>Adobe</td>\n",
              "      <td>http://www.adobe.com</td>\n",
              "      <td>Adobe is the global leader in digital media an...</td>\n",
              "      <td>Our CompanyChanging the world through digital ...</td>\n",
              "      <td>Entry level</td>\n",
              "      <td>Machine Learning Engineer</td>\n",
              "    </tr>\n",
              "    <tr>\n",
              "      <th>3</th>\n",
              "      <td>2025-03-22</td>\n",
              "      <td>Mountain View</td>\n",
              "      <td>California</td>\n",
              "      <td>Waymo</td>\n",
              "      <td>https://waymo.com/careers/</td>\n",
              "      <td>On the journey to be the world's most trusted ...</td>\n",
              "      <td>Waymo is an autonomous driving technology comp...</td>\n",
              "      <td>Entry level</td>\n",
              "      <td>Machine Learning Engineer, Training</td>\n",
              "    </tr>\n",
              "    <tr>\n",
              "      <th>4</th>\n",
              "      <td>2025-03-28</td>\n",
              "      <td>Boston</td>\n",
              "      <td>Massachusetts</td>\n",
              "      <td>HMH</td>\n",
              "      <td>http://www.hmhco.com</td>\n",
              "      <td>We are an adaptive learning company that empow...</td>\n",
              "      <td>Job Title: Machine Learning EngineerLocation: ...</td>\n",
              "      <td>Mid-Senior level</td>\n",
              "      <td>Machine Learning Engineer</td>\n",
              "    </tr>\n",
              "  </tbody>\n",
              "</table>\n",
              "</div>\n",
              "    <div class=\"colab-df-buttons\">\n",
              "\n",
              "  <div class=\"colab-df-container\">\n",
              "    <button class=\"colab-df-convert\" onclick=\"convertToInteractive('df-72f024a2-2167-49da-bde3-4a9055b27e50')\"\n",
              "            title=\"Convert this dataframe to an interactive table.\"\n",
              "            style=\"display:none;\">\n",
              "\n",
              "  <svg xmlns=\"http://www.w3.org/2000/svg\" height=\"24px\" viewBox=\"0 -960 960 960\">\n",
              "    <path d=\"M120-120v-720h720v720H120Zm60-500h600v-160H180v160Zm220 220h160v-160H400v160Zm0 220h160v-160H400v160ZM180-400h160v-160H180v160Zm440 0h160v-160H620v160ZM180-180h160v-160H180v160Zm440 0h160v-160H620v160Z\"/>\n",
              "  </svg>\n",
              "    </button>\n",
              "\n",
              "  <style>\n",
              "    .colab-df-container {\n",
              "      display:flex;\n",
              "      gap: 12px;\n",
              "    }\n",
              "\n",
              "    .colab-df-convert {\n",
              "      background-color: #E8F0FE;\n",
              "      border: none;\n",
              "      border-radius: 50%;\n",
              "      cursor: pointer;\n",
              "      display: none;\n",
              "      fill: #1967D2;\n",
              "      height: 32px;\n",
              "      padding: 0 0 0 0;\n",
              "      width: 32px;\n",
              "    }\n",
              "\n",
              "    .colab-df-convert:hover {\n",
              "      background-color: #E2EBFA;\n",
              "      box-shadow: 0px 1px 2px rgba(60, 64, 67, 0.3), 0px 1px 3px 1px rgba(60, 64, 67, 0.15);\n",
              "      fill: #174EA6;\n",
              "    }\n",
              "\n",
              "    .colab-df-buttons div {\n",
              "      margin-bottom: 4px;\n",
              "    }\n",
              "\n",
              "    [theme=dark] .colab-df-convert {\n",
              "      background-color: #3B4455;\n",
              "      fill: #D2E3FC;\n",
              "    }\n",
              "\n",
              "    [theme=dark] .colab-df-convert:hover {\n",
              "      background-color: #434B5C;\n",
              "      box-shadow: 0px 1px 3px 1px rgba(0, 0, 0, 0.15);\n",
              "      filter: drop-shadow(0px 1px 2px rgba(0, 0, 0, 0.3));\n",
              "      fill: #FFFFFF;\n",
              "    }\n",
              "  </style>\n",
              "\n",
              "    <script>\n",
              "      const buttonEl =\n",
              "        document.querySelector('#df-72f024a2-2167-49da-bde3-4a9055b27e50 button.colab-df-convert');\n",
              "      buttonEl.style.display =\n",
              "        google.colab.kernel.accessAllowed ? 'block' : 'none';\n",
              "\n",
              "      async function convertToInteractive(key) {\n",
              "        const element = document.querySelector('#df-72f024a2-2167-49da-bde3-4a9055b27e50');\n",
              "        const dataTable =\n",
              "          await google.colab.kernel.invokeFunction('convertToInteractive',\n",
              "                                                    [key], {});\n",
              "        if (!dataTable) return;\n",
              "\n",
              "        const docLinkHtml = 'Like what you see? Visit the ' +\n",
              "          '<a target=\"_blank\" href=https://colab.research.google.com/notebooks/data_table.ipynb>data table notebook</a>'\n",
              "          + ' to learn more about interactive tables.';\n",
              "        element.innerHTML = '';\n",
              "        dataTable['output_type'] = 'display_data';\n",
              "        await google.colab.output.renderOutput(dataTable, element);\n",
              "        const docLink = document.createElement('div');\n",
              "        docLink.innerHTML = docLinkHtml;\n",
              "        element.appendChild(docLink);\n",
              "      }\n",
              "    </script>\n",
              "  </div>\n",
              "\n",
              "\n",
              "    <div id=\"df-dfb260c0-29df-4503-8ec5-bfee6b005a94\">\n",
              "      <button class=\"colab-df-quickchart\" onclick=\"quickchart('df-dfb260c0-29df-4503-8ec5-bfee6b005a94')\"\n",
              "                title=\"Suggest charts\"\n",
              "                style=\"display:none;\">\n",
              "\n",
              "<svg xmlns=\"http://www.w3.org/2000/svg\" height=\"24px\"viewBox=\"0 0 24 24\"\n",
              "     width=\"24px\">\n",
              "    <g>\n",
              "        <path d=\"M19 3H5c-1.1 0-2 .9-2 2v14c0 1.1.9 2 2 2h14c1.1 0 2-.9 2-2V5c0-1.1-.9-2-2-2zM9 17H7v-7h2v7zm4 0h-2V7h2v10zm4 0h-2v-4h2v4z\"/>\n",
              "    </g>\n",
              "</svg>\n",
              "      </button>\n",
              "\n",
              "<style>\n",
              "  .colab-df-quickchart {\n",
              "      --bg-color: #E8F0FE;\n",
              "      --fill-color: #1967D2;\n",
              "      --hover-bg-color: #E2EBFA;\n",
              "      --hover-fill-color: #174EA6;\n",
              "      --disabled-fill-color: #AAA;\n",
              "      --disabled-bg-color: #DDD;\n",
              "  }\n",
              "\n",
              "  [theme=dark] .colab-df-quickchart {\n",
              "      --bg-color: #3B4455;\n",
              "      --fill-color: #D2E3FC;\n",
              "      --hover-bg-color: #434B5C;\n",
              "      --hover-fill-color: #FFFFFF;\n",
              "      --disabled-bg-color: #3B4455;\n",
              "      --disabled-fill-color: #666;\n",
              "  }\n",
              "\n",
              "  .colab-df-quickchart {\n",
              "    background-color: var(--bg-color);\n",
              "    border: none;\n",
              "    border-radius: 50%;\n",
              "    cursor: pointer;\n",
              "    display: none;\n",
              "    fill: var(--fill-color);\n",
              "    height: 32px;\n",
              "    padding: 0;\n",
              "    width: 32px;\n",
              "  }\n",
              "\n",
              "  .colab-df-quickchart:hover {\n",
              "    background-color: var(--hover-bg-color);\n",
              "    box-shadow: 0 1px 2px rgba(60, 64, 67, 0.3), 0 1px 3px 1px rgba(60, 64, 67, 0.15);\n",
              "    fill: var(--button-hover-fill-color);\n",
              "  }\n",
              "\n",
              "  .colab-df-quickchart-complete:disabled,\n",
              "  .colab-df-quickchart-complete:disabled:hover {\n",
              "    background-color: var(--disabled-bg-color);\n",
              "    fill: var(--disabled-fill-color);\n",
              "    box-shadow: none;\n",
              "  }\n",
              "\n",
              "  .colab-df-spinner {\n",
              "    border: 2px solid var(--fill-color);\n",
              "    border-color: transparent;\n",
              "    border-bottom-color: var(--fill-color);\n",
              "    animation:\n",
              "      spin 1s steps(1) infinite;\n",
              "  }\n",
              "\n",
              "  @keyframes spin {\n",
              "    0% {\n",
              "      border-color: transparent;\n",
              "      border-bottom-color: var(--fill-color);\n",
              "      border-left-color: var(--fill-color);\n",
              "    }\n",
              "    20% {\n",
              "      border-color: transparent;\n",
              "      border-left-color: var(--fill-color);\n",
              "      border-top-color: var(--fill-color);\n",
              "    }\n",
              "    30% {\n",
              "      border-color: transparent;\n",
              "      border-left-color: var(--fill-color);\n",
              "      border-top-color: var(--fill-color);\n",
              "      border-right-color: var(--fill-color);\n",
              "    }\n",
              "    40% {\n",
              "      border-color: transparent;\n",
              "      border-right-color: var(--fill-color);\n",
              "      border-top-color: var(--fill-color);\n",
              "    }\n",
              "    60% {\n",
              "      border-color: transparent;\n",
              "      border-right-color: var(--fill-color);\n",
              "    }\n",
              "    80% {\n",
              "      border-color: transparent;\n",
              "      border-right-color: var(--fill-color);\n",
              "      border-bottom-color: var(--fill-color);\n",
              "    }\n",
              "    90% {\n",
              "      border-color: transparent;\n",
              "      border-bottom-color: var(--fill-color);\n",
              "    }\n",
              "  }\n",
              "</style>\n",
              "\n",
              "      <script>\n",
              "        async function quickchart(key) {\n",
              "          const quickchartButtonEl =\n",
              "            document.querySelector('#' + key + ' button');\n",
              "          quickchartButtonEl.disabled = true;  // To prevent multiple clicks.\n",
              "          quickchartButtonEl.classList.add('colab-df-spinner');\n",
              "          try {\n",
              "            const charts = await google.colab.kernel.invokeFunction(\n",
              "                'suggestCharts', [key], {});\n",
              "          } catch (error) {\n",
              "            console.error('Error during call to suggestCharts:', error);\n",
              "          }\n",
              "          quickchartButtonEl.classList.remove('colab-df-spinner');\n",
              "          quickchartButtonEl.classList.add('colab-df-quickchart-complete');\n",
              "        }\n",
              "        (() => {\n",
              "          let quickchartButtonEl =\n",
              "            document.querySelector('#df-dfb260c0-29df-4503-8ec5-bfee6b005a94 button');\n",
              "          quickchartButtonEl.style.display =\n",
              "            google.colab.kernel.accessAllowed ? 'block' : 'none';\n",
              "        })();\n",
              "      </script>\n",
              "    </div>\n",
              "\n",
              "    </div>\n",
              "  </div>\n"
            ],
            "application/vnd.google.colaboratory.intrinsic+json": {
              "type": "dataframe",
              "variable_name": "df",
              "summary": "{\n  \"name\": \"df\",\n  \"rows\": 997,\n  \"fields\": [\n    {\n      \"column\": \"job_posted_date\",\n      \"properties\": {\n        \"dtype\": \"object\",\n        \"num_unique_values\": 116,\n        \"samples\": [\n          \"2025-03-06\",\n          \"2025-03-28\",\n          \"2024-08-25\"\n        ],\n        \"semantic_type\": \"\",\n        \"description\": \"\"\n      }\n    },\n    {\n      \"column\": \"company_address_locality\",\n      \"properties\": {\n        \"dtype\": \"category\",\n        \"num_unique_values\": 178,\n        \"samples\": [\n          \"Washington\",\n          \"Leeds\",\n          \"Concord\"\n        ],\n        \"semantic_type\": \"\",\n        \"description\": \"\"\n      }\n    },\n    {\n      \"column\": \"company_address_region\",\n      \"properties\": {\n        \"dtype\": \"category\",\n        \"num_unique_values\": 87,\n        \"samples\": [\n          \"Kansas\",\n          \"Indiana\",\n          \"\\u5317\\u4eac\"\n        ],\n        \"semantic_type\": \"\",\n        \"description\": \"\"\n      }\n    },\n    {\n      \"column\": \"company_name\",\n      \"properties\": {\n        \"dtype\": \"category\",\n        \"num_unique_values\": 488,\n        \"samples\": [\n          \"Microsoft\",\n          \"Together AI\",\n          \"Modern Technology Solutions, Inc. (MTSI)\"\n        ],\n        \"semantic_type\": \"\",\n        \"description\": \"\"\n      }\n    },\n    {\n      \"column\": \"company_website\",\n      \"properties\": {\n        \"dtype\": \"category\",\n        \"num_unique_values\": 478,\n        \"samples\": [\n          \"https://block.xyz/\",\n          \"https://www.inspyrsolutions.com\",\n          \"http://www.codametrix.com\"\n        ],\n        \"semantic_type\": \"\",\n        \"description\": \"\"\n      }\n    },\n    {\n      \"column\": \"company_description\",\n      \"properties\": {\n        \"dtype\": \"category\",\n        \"num_unique_values\": 480,\n        \"samples\": [\n          \"Happy Elements is a company concentrating on the development and operation of mobile online games, advertising platform, and the original IP, which includes the providing of original IP-based performances, music, animations, derivative products, and IP licensing services as well.\\nThe company has launched Anipop, Happy Fish, Summer Pop, Tsum Tsum, Ensemble Stars!, Ensemble Stars!! Music, Merc Storia, and other popular games. It has also created the original IP including Ensemble Stars, Anipop Club, etc. Among all these products, Anipop is listed as one of the most popular leisure games in China, while the series of Ensemble Stars is remarked as the most successful male virtual idol game in Japan.\\nBesides, Happy Elements has also developed an independent advertising platform, Sigmob, to provide advertising operation and monetization solutions to the mobile content developers.\\nWith 1,100 staff at offices and research institutions located in Beijing, Shanghai, Shenzhen, Tokyo, Kyoto and San Francisco, this Beijing-based company continues to attract outstanding talents all over the world. Devoted to conveying its products and happiness to every corner of the world, the company aims to \\u201ccreate better cultural entertainments, and convey happiness and joy to more people\\u201d.\",\n          \"IntelliSoft Technologies, Inc. was founded in 1997 and specializes in providing software products & integrated solutions to Fortune 500 clients.  IntelliSoft   leverages CMMI Level 3, ISO, and ITIL best practices to deliver full software development life cycle support to our customers.  From vendor neutral perspective we help our clients to evaluate, select and integrate leading edge technologies.\\n\\nOur product portfolio includes \\nDatamorphix.ai - Conversational Analytics AI Platform\\nEdbrix.com  - Enterprise learning management platform\\nHrchex.com - Background Checks & Human Capital Management Platform\\nOrionox.com - Enterprise VOIP Platform\",\n          \"G2 Ops is a preferred provider of analytical and innovative solutions in the following areas:\\n-  Model-Based Systems Engineering\\n-  Cybersecurity Requirements, Analysis, and Threat Assessment\\n-  Cybersecurity Consulting\\n\\nStrategic vision: G2 Ops helps companies stay ahead of cyber crime and IT threats by identifying and measuring weaknesses before incidents occur, then providing remediation priorities based on individual business and financial risk thresholds.\"\n        ],\n        \"semantic_type\": \"\",\n        \"description\": \"\"\n      }\n    },\n    {\n      \"column\": \"job_description_text\",\n      \"properties\": {\n        \"dtype\": \"string\",\n        \"num_unique_values\": 795,\n        \"samples\": [\n          \"REPORTING TO: Chief Technology OfficerLOCATION: NYC (Onsite M-F)Who The Flip Is Flip?Ever have a bad experience calling customer service? We're changing that!Flip replaces old customer service phone robots with a modern voice AI experience for over 200 of your favorite brands on the planet. We support companies within eCommerce and Transportation and have another vertical in incubator stages. Our software talks to millions of people weekly and has helped 200M+ callers so far.Our growth is inevitable as only 1% of companies have adopted this technology today and yet everyone agrees it is obvious. We aim to lead this change and focus on winning within our verticals, one at a time.Flip is a profitable, fast-growing and a well-funded 40-person startup. We are in-office, with spaces in NYC, LA, and the UK. Our team is the most important and best thing we've built.What You'll DoWe are looking for a few great product engineers (backend software engineers that love building products) to join us in creating the next generation of our over-the-phone voice assistant.At Flip, you'll create user experiences, features, and oversee whole segments of the Flip assistant. You'll also get into the data, listen to our customers, and help shape the direction of the product. We have a few excellent senior engineers already on the team, one of which will become your direct mentor!Who You Are, As An EngineerGood on the backend, especially with your Python experience - we're almost all backend here, because voice products have no GUI!Your engineering level: early mid-level up to 'nearing senior in a year or two'The product is what we're working on - not theoretical engineering perfection! :) You care about the customerWho You Are, As A PersonLooking to go all-in, learn a lot, and do the best work of your career (so far!)Put in the time, and put out work you're proud ofCommunicate well, and embrace ownership, speed, &amp; occasional uncertaintyEager and willing to support your teammates - just like they will with you!BonusesKnow what it looks like to work at a startup, and have an entrepreneurial driveExperience building Voice products - but we can teach you this too :)Work onsite in our NYC office! Our NYC office has a blend of Product, Engineering, Customer Success and GTM More About UsWe're international, spanning the US, UK, and CanadaOur tech stack includes Python, MongoDB, AWS, Twilio, Datadog, Snowflake, and OmniWe are backed by ScOp Venture Capital, Bullpen Capital, and Forum Ventures, as well as founders &amp; executives from Amazon Alexa, Ada, Attentive, and SimonComprehensive healthcare and unlimited vacation, including a mandatory half week for everyone over July 4, and a full week off at the end of the yearOur customers span the globe, and so do our offices. Flip is committed to providing equal employment opportunities for all employees, applicants, and covered individuals regardless of protected characteristics. We want our company to be as diverse and inclusive as our customers.\",\n          \"About AnthropicAnthropic\\u2019s mission is to create reliable, interpretable, and steerable AI systems. We want AI to be safe and beneficial for our users and for society as a whole. Our team is a quickly growing group of committed researchers, engineers, policy experts, and business leaders working together to build beneficial AI systems.About The RoleWe are looking for ML engineers to help build safety and oversight mechanisms for our AI systems. As a Trust and Safety Machine Learning Engineer, you will work to train models which detect harmful behaviors and help ensure user well-being. You will apply your technical skills to uphold our principles of safety, transparency, and oversight while enforcing our terms of service and acceptable use policies.ResponsibilitiesBuild machine learning models to detect unwanted or anomalous behaviors from users and API partners, and integrate them into our production systemImprove our automated detection and enforcement systems as neededAnalyze user reports of inappropriate accounts and build machine learning models to detect similar instances proactivelySurface abuse patterns to our research teams to harden models at the training stageYou May Be a Good Fit If YouHave 4+ years of experience in a research/ML engineering or an applied research scientist position, preferably with a focus on trust and safety.Have proficiency in SQL, Python, and data analysis/data mining tools.Have proficiency in building trust and safety AI/ML systems, such as behavioral classifiers or anomaly detection.Have strong communication skills and ability to explain complex technical concepts to non-technical stakeholders.Care about the societal impacts and long-term implications of your work.Strong Candidates May Also Have Experience WithMachine learning frameworks like Scikit-Learn, TensorFlow, or PyTorchHigh-performance, large-scale ML systemsLanguage modeling with transformersReinforcement learningLarge-scale ETLAnnual SalaryThe expected salary range for this position is:$340,000 - $425,000 USDLogisticsEducation requirements: We require at least a Bachelor's degree in a related field or equivalent experience.Location-based hybrid policy: Currently, we expect all staff to be in one of our offices at least 25% of the time. However, some roles may require more time in our offices.Visa sponsorship: We do sponsor visas! However, we aren't able to successfully sponsor visas for every role and every candidate. But if we make you an offer, we will make every reasonable effort to get you a visa, and we retain an immigration lawyer to help with this.We encourage you to apply even if you do not believe you meet every single qualification. Not all strong candidates will meet every single qualification as listed. Research shows that people who identify as being from underrepresented groups are more prone to experiencing imposter syndrome and doubting the strength of their candidacy, so we urge you not to exclude yourself prematurely and to submit an application if you're interested in this work. We think AI systems like the ones we're building have enormous social and ethical implications. We think this makes representation even more important, and we strive to include a range of diverse perspectives on our team.How We're DifferentWe believe that the highest-impact AI research will be big science. At Anthropic we work as a single cohesive team on just a few large-scale research efforts. And we value impact \\u2014 advancing our long-term goals of steerable, trustworthy AI \\u2014 rather than work on smaller and more specific puzzles. We view AI research as an empirical science, which has as much in common with physics and biology as with traditional efforts in computer science. We're an extremely collaborative group, and we host frequent research discussions to ensure that we are pursuing the highest-impact work at any given time. As such, we greatly value communication skills.The easiest way to understand our research directions is to read our recent research. This research continues many of the directions our team worked on prior to Anthropic, including: GPT-3, Circuit-Based Interpretability, Multimodal Neurons, Scaling Laws, AI &amp; Compute, Concrete Problems in AI Safety, and Learning from Human Preferences.Come work with us!Anthropic is a public benefit corporation headquartered in San Francisco. We offer competitive compensation and benefits, optional equity donation matching, generous vacation and parental leave, flexible working hours, and a lovely office space in which to collaborate with colleagues.\",\n          \"OverviewJob PurposeThe Document and Data Automation team at ICE Mortgage Technology is on the forefront of revolutionizing the mortgage lending process through the deployment of cutting-edge AI and ML technologies. Our mission is to transform the traditionally lengthy mortgage workflows, utilizing advanced document recognition, data extraction, and other AI-driven techniques. Our ambitious goal is to cut down the loan processing time from 40 days to just 40 minutes, leveraging the latest in AI and ML innovations.As a Junior Machine Learning Engineer, you will play a crucial role in supporting the development and deployment of these innovative ML models focused on document processing tasks. Your work will be instrumental in enhancing efficiency, accuracy, and speed within the mortgage lending process, contributing directly to our mission of making homeownership more accessible and streamlined.ResponsibilitiesSupport the development of Machine Learning models: Assist in building and refining machine learning models for document processing, under the guidance of senior team members. Utilize your knowledge in deep learning, computer vision, and natural language processing to contribute to models that efficiently extract key data.Contribute to continuous improvement: Support monitoring and optimizing the performance of deployed models to ensure they remain efficient, scalable, and accurate. Help in identifying and resolving performance issues in collaboration with senior engineers. Track key performance indicators, analyze results, and report on the impact of your work.Collaborate with the team: Engage with a cross-functional team of data scientists, engineers, and industry experts to contribute to shared objectives and learn from leading professionals in the field.Learn and grow: Take initiative in learning new technologies and methods in machine learning, especially as they relate to document understanding and data extraction. Stay updated with industry trends and advancements.Facilitate the innovation: Participate in identifying and incorporating new technologies and techniques to advance our document processing capabilities. Be proactive in suggesting improvements and innovative approaches.Knowledge And ExperienceBachelor\\u2019s degree in Engineering, Computer Science, or a related field. Master's degree or PHD in Engineering, Computer Science, Statistics, Mathematics, or related field is strongly preferred. Up to 2 years of experience in software engineering, with exposure to the full SDLC.Solid understanding of Statistics, Deep Learning and classical Machine Learning concepts.Strong Python programming skills and familiarity with Deep Learning frameworks like PyTorch or TensorFlow.A foundational understanding of ML principles, statistics, computer vision (CV), and/or natural language processing (NLP).Good communication and presentation skills.Eagerness to learn and adapt to new technologies and methodologies.Advantageous to have:Exposure to ML tools and libraries (e.g. Huggingface Transformers, MLFlow, scikit-learn, pandas, Jupyter).Knowledge of cloud platforms (e.g., AWS), big data processing technologies (SQL, Databricks, Spark), and web development basics.Experience with git, Docker, Terraform, Jenkins.Intercontinental Exchange, Inc. is an Equal Opportunity Employer. All qualified applicants will receive consideration for employment without regard to legally protected characteristics.\"\n        ],\n        \"semantic_type\": \"\",\n        \"description\": \"\"\n      }\n    },\n    {\n      \"column\": \"seniority_level\",\n      \"properties\": {\n        \"dtype\": \"category\",\n        \"num_unique_values\": 7,\n        \"samples\": [\n          \"Internship\",\n          \"Mid-Senior level\",\n          \"Executive\"\n        ],\n        \"semantic_type\": \"\",\n        \"description\": \"\"\n      }\n    },\n    {\n      \"column\": \"job_title\",\n      \"properties\": {\n        \"dtype\": \"category\",\n        \"num_unique_values\": 450,\n        \"samples\": [\n          \"Software Engineer, Batch Data\",\n          \"Staff Software Engineer- ML Ops\",\n          \"Software Engineer - Post-training Data\"\n        ],\n        \"semantic_type\": \"\",\n        \"description\": \"\"\n      }\n    }\n  ]\n}"
            }
          },
          "metadata": {},
          "execution_count": 17
        }
      ]
    },
    {
      "cell_type": "code",
      "source": [],
      "metadata": {
        "id": "LVqGRODkQi7E"
      },
      "execution_count": null,
      "outputs": []
    }
  ]
}